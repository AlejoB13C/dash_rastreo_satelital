{
 "cells": [
  {
   "cell_type": "code",
   "execution_count": null,
   "metadata": {},
   "outputs": [],
   "source": [
    "import dash\n",
    "import dash_labs as dl\n",
    "import dash_bootstrap_components as dbc\n",
    "import os"
   ]
  }
 ],
 "metadata": {
  "interpreter": {
   "hash": "b4f435e5e2edc867c19b0a2a60e84a5fc81263ecc96c81c16a88a9c72b58d1ac"
  },
  "kernelspec": {
   "display_name": "Python 3.8.10 ('venv': venv)",
   "language": "python",
   "name": "python3"
  },
  "language_info": {
   "name": "python",
   "version": "3.8.10"
  },
  "orig_nbformat": 4
 },
 "nbformat": 4,
 "nbformat_minor": 2
}
